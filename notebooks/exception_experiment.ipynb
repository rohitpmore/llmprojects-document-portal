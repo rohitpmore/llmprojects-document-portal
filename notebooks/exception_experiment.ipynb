{
 "cells": [
  {
   "cell_type": "code",
   "execution_count": 1,
   "id": "19e20f40",
   "metadata": {},
   "outputs": [
    {
     "name": "stdout",
     "output_type": "stream",
     "text": [
      "Hello World\n"
     ]
    }
   ],
   "source": [
    "print(\"Hello World\")"
   ]
  },
  {
   "cell_type": "code",
   "execution_count": 5,
   "id": "1b4fb2e5",
   "metadata": {},
   "outputs": [
    {
     "ename": "DocumentPortalException",
     "evalue": "\n        Error in [/var/folders/n4/nphk19k56173_bhnh_z5d9gw0000gn/T/ipykernel_98423/2039036628.py] at line number [24]\n        Error Message: division by zero\n        Traceback: Traceback (most recent call last):\n  File \"/var/folders/n4/nphk19k56173_bhnh_z5d9gw0000gn/T/ipykernel_98423/2039036628.py\", line 24, in <module>\n    a = 1/0\n        ~^~\nZeroDivisionError: division by zero\n\n        ",
     "output_type": "error",
     "traceback": [
      "\u001b[31m---------------------------------------------------------------------------\u001b[39m",
      "\u001b[31mZeroDivisionError\u001b[39m                         Traceback (most recent call last)",
      "\u001b[36mCell\u001b[39m\u001b[36m \u001b[39m\u001b[32mIn[5]\u001b[39m\u001b[32m, line 24\u001b[39m\n\u001b[32m     23\u001b[39m \u001b[38;5;28;01mtry\u001b[39;00m:\n\u001b[32m---> \u001b[39m\u001b[32m24\u001b[39m     a = \u001b[32;43m1\u001b[39;49m\u001b[43m/\u001b[49m\u001b[32;43m0\u001b[39;49m\n\u001b[32m     25\u001b[39m \u001b[38;5;28;01mexcept\u001b[39;00m \u001b[38;5;167;01mException\u001b[39;00m \u001b[38;5;28;01mas\u001b[39;00m e:\n",
      "\u001b[31mZeroDivisionError\u001b[39m: division by zero",
      "\nDuring handling of the above exception, another exception occurred:\n",
      "\u001b[31mDocumentPortalException\u001b[39m                   Traceback (most recent call last)",
      "\u001b[36mCell\u001b[39m\u001b[36m \u001b[39m\u001b[32mIn[5]\u001b[39m\u001b[32m, line 27\u001b[39m\n\u001b[32m     25\u001b[39m \u001b[38;5;28;01mexcept\u001b[39;00m \u001b[38;5;167;01mException\u001b[39;00m \u001b[38;5;28;01mas\u001b[39;00m e:\n\u001b[32m     26\u001b[39m     app_exception = DocumentPortalException(e, sys)\n\u001b[32m---> \u001b[39m\u001b[32m27\u001b[39m     \u001b[38;5;28;01mraise\u001b[39;00m app_exception\n",
      "\u001b[31mDocumentPortalException\u001b[39m: \n        Error in [/var/folders/n4/nphk19k56173_bhnh_z5d9gw0000gn/T/ipykernel_98423/2039036628.py] at line number [24]\n        Error Message: division by zero\n        Traceback: Traceback (most recent call last):\n  File \"/var/folders/n4/nphk19k56173_bhnh_z5d9gw0000gn/T/ipykernel_98423/2039036628.py\", line 24, in <module>\n    a = 1/0\n        ~^~\nZeroDivisionError: division by zero\n\n        "
     ]
    }
   ],
   "source": [
    "import sys\n",
    "import traceback\n",
    "\n",
    "\n",
    "class DocumentPortalException(Exception):\n",
    "    \"\"\"Custom exception class for Document Portal.\"\"\"\n",
    "\n",
    "    def __init__(self, error_message:str, error_details:sys):\n",
    "        _, _, tb = error_details.exc_info()\n",
    "        self.file_name = tb.tb_frame.f_code.co_filename\n",
    "        self.line_number = tb.tb_lineno\n",
    "        self.error_message = str(error_message)\n",
    "        self.traceback_str = ''.join(traceback.format_exception(*error_details.exc_info()))\n",
    "\n",
    "    def __str__(self):\n",
    "        return f\"\"\"\n",
    "        Error in [{self.file_name}] at line number [{self.line_number}]\n",
    "        Error Message: {self.error_message}\n",
    "        Traceback: {self.traceback_str}\n",
    "        \"\"\"\n",
    "\n",
    "if __name__ == \"__main__\":\n",
    "    try:\n",
    "        a = 1/0\n",
    "    except Exception as e:\n",
    "        app_exception = DocumentPortalException(e, sys)\n",
    "        raise app_exception\n"
   ]
  },
  {
   "cell_type": "code",
   "execution_count": null,
   "id": "395db2c7",
   "metadata": {},
   "outputs": [],
   "source": []
  }
 ],
 "metadata": {
  "kernelspec": {
   "display_name": ".venv",
   "language": "python",
   "name": "python3"
  },
  "language_info": {
   "codemirror_mode": {
    "name": "ipython",
    "version": 3
   },
   "file_extension": ".py",
   "mimetype": "text/x-python",
   "name": "python",
   "nbconvert_exporter": "python",
   "pygments_lexer": "ipython3",
   "version": "3.13.3"
  }
 },
 "nbformat": 4,
 "nbformat_minor": 5
}
