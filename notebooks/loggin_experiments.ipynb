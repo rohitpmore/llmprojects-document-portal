{
 "cells": [
  {
   "cell_type": "code",
   "execution_count": 1,
   "id": "7a8851c9",
   "metadata": {},
   "outputs": [
    {
     "name": "stdout",
     "output_type": "stream",
     "text": [
      "Hello World\n"
     ]
    }
   ],
   "source": [
    "print(\"Hello World\")"
   ]
  },
  {
   "cell_type": "code",
   "execution_count": 2,
   "id": "805df2fc",
   "metadata": {},
   "outputs": [],
   "source": [
    "import logging\n",
    "import os\n",
    "from datetime import datetime\n",
    "\n",
    "\n"
   ]
  },
  {
   "cell_type": "code",
   "execution_count": 3,
   "id": "082b8ce1",
   "metadata": {},
   "outputs": [],
   "source": [
    "logs_dir = os.path.join(os.getcwd(), \"logs\")\n",
    "os.makedirs(logs_dir, exist_ok=True)\n"
   ]
  },
  {
   "cell_type": "code",
   "execution_count": 4,
   "id": "e982ac3d",
   "metadata": {},
   "outputs": [],
   "source": [
    "import logging\n",
    "import os\n",
    "from datetime import datetime\n",
    "\n",
    "\n",
    "logs_dir = os.path.join(os.getcwd(), \"logs\")\n",
    "os.makedirs(logs_dir, exist_ok=True)\n",
    "\n",
    "LOG_FILE = f\"{datetime.now().strftime('%Y-%m-%d_%H-%M-%S')}.log\"\n",
    "LOG_FILE_PATH = os.path.join(logs_dir, LOG_FILE)\n",
    "\n",
    "logging.basicConfig(filename=LOG_FILE_PATH, \n",
    "                    format='%(asctime)s - %(name)s - %(levelname)s - %(message)s',\n",
    "                    level=logging.INFO)"
   ]
  },
  {
   "cell_type": "code",
   "execution_count": 5,
   "id": "38142cc7",
   "metadata": {},
   "outputs": [],
   "source": [
    "logger = logging.getLogger(\"DocumentPortal\")\n",
    "logger.info(\"This is a test log\")"
   ]
  },
  {
   "cell_type": "code",
   "execution_count": null,
   "id": "9f5c9fed",
   "metadata": {},
   "outputs": [
    {
     "name": "stdout",
     "output_type": "stream",
     "text": [
      "\u001b[2m2025-07-29 23:25:43\u001b[0m [\u001b[32m\u001b[1minfo     \u001b[0m] \u001b[1mThis is a test log            \u001b[0m \u001b[36mextra\u001b[0m=\u001b[35m{'custom_key': 'custom_value'}\u001b[0m\n",
      "\u001b[2m2025-07-29 23:25:43\u001b[0m [\u001b[31m\u001b[1merror    \u001b[0m] \u001b[1mThis is a test error log      \u001b[0m \u001b[36mextra\u001b[0m=\u001b[35m{'custom_key': 'custom_value'}\u001b[0m\n"
     ]
    }
   ],
   "source": [
    "import structlog\n",
    "\n",
    "logger = structlog.get_logger()\n",
    "\n",
    "logger.info(\"This is a test log\", extra={\"custom_key\": \"custom_value\"})\n",
    "logger.error(\"This is a test error log\", extra={\"custom_key\": \"custom_value\"})\n"
   ]
  },
  {
   "cell_type": "markdown",
   "id": "3806d235",
   "metadata": {},
   "source": []
  }
 ],
 "metadata": {
  "kernelspec": {
   "display_name": ".venv",
   "language": "python",
   "name": "python3"
  },
  "language_info": {
   "codemirror_mode": {
    "name": "ipython",
    "version": 3
   },
   "file_extension": ".py",
   "mimetype": "text/x-python",
   "name": "python",
   "nbconvert_exporter": "python",
   "pygments_lexer": "ipython3",
   "version": "3.13.3"
  }
 },
 "nbformat": 4,
 "nbformat_minor": 5
}
